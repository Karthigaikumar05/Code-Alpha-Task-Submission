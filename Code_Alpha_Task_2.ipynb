{
  "nbformat": 4,
  "nbformat_minor": 0,
  "metadata": {
    "colab": {
      "provenance": []
    },
    "kernelspec": {
      "name": "python3",
      "display_name": "Python 3"
    },
    "language_info": {
      "name": "python"
    }
  },
  "cells": [
    {
      "cell_type": "code",
      "execution_count": null,
      "metadata": {
        "colab": {
          "base_uri": "https://localhost:8080/"
        },
        "id": "lgW4SQ9DXRhT",
        "outputId": "2e0f26d7-9e97-4795-c4c6-55150698549b"
      },
      "outputs": [
        {
          "output_type": "stream",
          "name": "stdout",
          "text": [
            "📈 Stock Portfolio Tracker\n",
            "Available stocks: AAPL, TSLA, GOOGL, MSFT, AMZN\n",
            "Enter stock ticker and quantity (type 'done' to finish):\n",
            "\n",
            "Enter stock symbol (or 'done'): AAPL\n",
            "Enter quantity of AAPL: 180\n",
            "\n",
            "Enter stock symbol (or 'done'): 'done'\n",
            "❌ Stock not found in price list. Try again.\n",
            "\n",
            "Enter stock symbol (or 'done'): done\n",
            "\n",
            "📊 Portfolio Summary:\n",
            "AAPL: 180 shares × $180 = $32400\n",
            "\n",
            "💰 Total Investment Value: $32400\n",
            "\n",
            "Do you want to save this summary to a file? (y/n): y\n",
            "✅ Summary saved to 'portfolio_summary.txt'\n"
          ]
        }
      ],
      "source": [
        "stock_prices = {\n",
        "    \"AAPL\": 180,\n",
        "    \"TSLA\": 250,\n",
        "    \"GOOGL\": 135,\n",
        "    \"MSFT\": 300,\n",
        "    \"AMZN\": 125\n",
        "}\n",
        "\n",
        "portfolio = {}\n",
        "total_value = 0\n",
        "\n",
        "print(\"📈 Stock Portfolio Tracker\")\n",
        "print(\"Available stocks:\", \", \".join(stock_prices.keys()))\n",
        "print(\"Enter stock ticker and quantity (type 'done' to finish):\")\n",
        "\n",
        "\n",
        "while True:\n",
        "    stock = input(\"\\nEnter stock symbol (or 'done'): \").upper()\n",
        "    if stock == \"DONE\":\n",
        "        break\n",
        "    if stock not in stock_prices:\n",
        "        print(\"❌ Stock not found in price list. Try again.\")\n",
        "        continue\n",
        "\n",
        "    try:\n",
        "        quantity = int(input(f\"Enter quantity of {stock}: \"))\n",
        "        if quantity < 0:\n",
        "            print(\"❗ Quantity must be non-negative.\")\n",
        "            continue\n",
        "    except ValueError:\n",
        "        print(\"❗ Invalid number. Please enter an integer.\")\n",
        "        continue\n",
        "\n",
        "    portfolio[stock] = portfolio.get(stock, 0) + quantity\n",
        "\n",
        "\n",
        "print(\"\\n📊 Portfolio Summary:\")\n",
        "for stock, qty in portfolio.items():\n",
        "    stock_value = stock_prices[stock] * qty\n",
        "    total_value += stock_value\n",
        "    print(f\"{stock}: {qty} shares × ${stock_prices[stock]} = ${stock_value}\")\n",
        "\n",
        "print(f\"\\n💰 Total Investment Value: ${total_value}\")\n",
        "\n",
        "\n",
        "save = input(\"\\nDo you want to save this summary to a file? (y/n): \").lower()\n",
        "if save == \"y\":\n",
        "    with open(\"portfolio_summary.txt\", \"w\") as file:\n",
        "        file.write(\"Stock Portfolio Summary\\n\")\n",
        "        file.write(\"-----------------------\\n\")\n",
        "        for stock, qty in portfolio.items():\n",
        "            stock_value = stock_prices[stock] * qty\n",
        "            file.write(f\"{stock}: {qty} shares × ${stock_prices[stock]} = ${stock_value}\\n\")\n",
        "        file.write(f\"\\nTotal Investment Value: ${total_value}\")\n",
        "    print(\"✅ Summary saved to 'portfolio_summary.txt'\")\n"
      ]
    }
  ]
}